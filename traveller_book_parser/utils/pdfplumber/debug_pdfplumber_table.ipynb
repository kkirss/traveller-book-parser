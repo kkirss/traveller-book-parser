{
 "cells": [
  {
   "cell_type": "code",
   "execution_count": null,
   "id": "14f978da-7676-4702-9c69-7e28630066ef",
   "metadata": {
    "jupyter": {
     "source_hidden": true
    }
   },
   "outputs": [],
   "source": [
    "import ipywidgets as widgets\n",
    "from ipywidgets import interact, interactive, fixed, interact_manual\n",
    "\n",
    "widget_style = {\"description_width\": \"11em\"}\n",
    "widget_layout = widgets.Layout(width=\"90%\")"
   ]
  },
  {
   "cell_type": "code",
   "execution_count": null,
   "id": "5fbf5777-6bd0-4205-8870-d20469f226f8",
   "metadata": {
    "jupyter": {
     "source_hidden": true
    }
   },
   "outputs": [],
   "source": [
    "from traveller_book_parser.books.parse_books import get_book_code_names\n",
    "from traveller_book_parser.books.load_book_description import load_book_description\n",
    "\n",
    "book_code_names = get_book_code_names()\n",
    "book_descriptions = [\n",
    "    load_book_description(book_code_name)\n",
    "    for book_code_name in book_code_names\n",
    "]\n",
    "\n",
    "book_widget = widgets.Dropdown(\n",
    "    options=[(book_description.name, book_description) for book_description in book_descriptions],\n",
    "    description=\"Book:\",\n",
    "    style=widget_style,\n",
    "    layout=widget_layout,\n",
    ")"
   ]
  },
  {
   "cell_type": "code",
   "execution_count": null,
   "id": "d37b2d68-08e1-454a-9fe7-ec872931251d",
   "metadata": {
    "editable": true,
    "jupyter": {
     "source_hidden": true
    },
    "slideshow": {
     "slide_type": ""
    },
    "tags": []
   },
   "outputs": [],
   "source": [
    "import pdfplumber\n",
    "\n",
    "from traveller_book_parser.books.book_description import get_book_file_path\n",
    "\n",
    "def get_page_max(book_description):\n",
    "    pdf_path = get_book_file_path(book_description.code_name)\n",
    "    with pdfplumber.open(pdf_path) as pdf:\n",
    "        return len(pdf.pages) + 1\n",
    "\n",
    "page_widget = widgets.IntText(\n",
    "    value=1,\n",
    "    min=1,\n",
    "    max=get_page_max(book_widget.value),\n",
    "    description=\"Page:\",\n",
    "    style=widget_style,\n",
    "    layout=widget_layout,\n",
    ")\n",
    "\n",
    "def update_page_widget(*args):\n",
    "    page_widget.max = get_page_max(book_widget.value)\n",
    "\n",
    "book_widget.observe(update_page_widget, names='value')"
   ]
  },
  {
   "cell_type": "code",
   "execution_count": null,
   "id": "09a3aa21-7667-4d9e-8b86-78580778a8a8",
   "metadata": {
    "editable": true,
    "jupyter": {
     "source_hidden": true
    },
    "slideshow": {
     "slide_type": ""
    },
    "tags": []
   },
   "outputs": [],
   "source": [
    "from traveller_book_parser.data_sources.pdfplumber.pdfplumber_integration import get_pdfplumber_page\n",
    "\n",
    "page = None\n",
    "im = None\n",
    "\n",
    "def update_pdf_page(*args):\n",
    "    global page\n",
    "    global im\n",
    "    page = get_pdfplumber_page(\n",
    "        pdf_path=get_book_file_path(book_widget.value.code_name),\n",
    "        page_number=page_widget.value,\n",
    "    )\n",
    "    im = page.to_image(resolution=144)\n",
    "\n",
    "update_pdf_page()\n",
    "\n",
    "book_widget.observe(update_pdf_page, names='value')\n",
    "page_widget.observe(update_pdf_page, names='value')"
   ]
  },
  {
   "cell_type": "code",
   "execution_count": null,
   "id": "8c876796-d55e-4d63-9172-50b15e046c8e",
   "metadata": {
    "editable": true,
    "jupyter": {
     "source_hidden": true
    },
    "slideshow": {
     "slide_type": ""
    },
    "tags": []
   },
   "outputs": [],
   "source": [
    "from collections import OrderedDict\n",
    "import json\n",
    "\n",
    "import pandas\n",
    "\n",
    "from traveller_book_parser.data_sources.pdfplumber.pdfplumber_integration import TABLE_SETTINGS_DEFAULTS\n",
    "\n",
    "\n",
    "def get_table_settings(\n",
    "    vertical_strategy=TABLE_SETTINGS_DEFAULTS[\"vertical_strategy\"],\n",
    "    horizontal_strategy=TABLE_SETTINGS_DEFAULTS[\"horizontal_strategy\"],\n",
    "    snap_x_tolerance=TABLE_SETTINGS_DEFAULTS[\"snap_x_tolerance\"],\n",
    "    snap_y_tolerance=TABLE_SETTINGS_DEFAULTS[\"snap_y_tolerance\"],\n",
    "    join_x_tolerance=TABLE_SETTINGS_DEFAULTS[\"join_x_tolerance\"],\n",
    "    join_y_tolerance=TABLE_SETTINGS_DEFAULTS[\"join_y_tolerance\"],\n",
    "    min_words_vertical=TABLE_SETTINGS_DEFAULTS[\"min_words_vertical\"],\n",
    "    min_words_horizontal=TABLE_SETTINGS_DEFAULTS[\"min_words_horizontal\"],\n",
    "    intersection_x_tolerance=TABLE_SETTINGS_DEFAULTS[\"intersection_x_tolerance\"],\n",
    "    intersection_y_tolerance=TABLE_SETTINGS_DEFAULTS[\"intersection_y_tolerance\"],\n",
    "    text_x_tolerance=TABLE_SETTINGS_DEFAULTS[\"text_x_tolerance\"],\n",
    "    text_y_tolerance=TABLE_SETTINGS_DEFAULTS[\"text_y_tolerance\"],\n",
    "):\n",
    "    table_settings = OrderedDict(\n",
    "        vertical_strategy=vertical_strategy,\n",
    "        horizontal_strategy=horizontal_strategy,\n",
    "        snap_x_tolerance=snap_x_tolerance,\n",
    "        snap_y_tolerance=snap_y_tolerance,\n",
    "        join_x_tolerance=join_x_tolerance,\n",
    "        join_y_tolerance=join_y_tolerance,\n",
    "        min_words_vertical=min_words_vertical,\n",
    "        min_words_horizontal=min_words_horizontal,\n",
    "        intersection_x_tolerance=intersection_x_tolerance,\n",
    "        intersection_y_tolerance=intersection_y_tolerance,\n",
    "        text_x_tolerance=text_x_tolerance,\n",
    "        text_y_tolerance=text_y_tolerance,\n",
    "    )\n",
    "    return table_settings\n",
    "\n",
    "table_settings_widget = interactive(\n",
    "    get_table_settings,\n",
    "    vertical_strategy=[\"lines\", \"lines_strict\", \"text\"],\n",
    "    horizontal_strategy=[\"lines\", \"lines_strict\", \"text\"],\n",
    "    snap_x_tolerance=(1.0, 40.0),\n",
    "    snap_y_tolerance=(1.0, 40.0),\n",
    "    join_x_tolerance=(1.0, 40.0),\n",
    "    join_y_tolerance=(1.0, 40.0),\n",
    "    min_words_vertical=(1, 50),\n",
    "    min_words_horizontal=(1, 50),\n",
    "    intersection_x_tolerance=(1.0, 40.0),\n",
    "    intersection_y_tolerance=(1.0, 40.0),\n",
    "    text_x_tolerance=fixed(TABLE_SETTINGS_DEFAULTS[\"text_x_tolerance\"]),\n",
    "    text_y_tolerance=fixed(TABLE_SETTINGS_DEFAULTS[\"text_y_tolerance\"]),\n",
    ")\n",
    "\n",
    "for child in table_settings_widget.children:\n",
    "    child.style=widget_style\n",
    "    child.layout=widget_layout"
   ]
  },
  {
   "cell_type": "code",
   "execution_count": null,
   "id": "982b140e-0628-49f8-ac49-92ce773c0454",
   "metadata": {
    "editable": true,
    "jupyter": {
     "source_hidden": true
    },
    "slideshow": {
     "slide_type": ""
    },
    "tags": []
   },
   "outputs": [],
   "source": [
    "changed_table_settings_json = widgets.Output(style=widget_style, layout=widget_layout)\n",
    "\n",
    "defaults_without_explicit = TABLE_SETTINGS_DEFAULTS.copy()\n",
    "defaults_without_explicit.pop(\"explicit_vertical_lines\")\n",
    "defaults_without_explicit.pop(\"explicit_horizontal_lines\")\n",
    "\n",
    "def update_changed_table_settings_json():\n",
    "    with changed_table_settings_json:\n",
    "        changed_table_settings = (\n",
    "            set(table_settings_widget.result.items())\n",
    "            - set(defaults_without_explicit.items())\n",
    "        )\n",
    "        changed_keys = {key for key, value in changed_table_settings}\n",
    "        print(json.dumps({\n",
    "            \"table_settings\": OrderedDict(\n",
    "                (key, value)\n",
    "                for (key, value) in table_settings_widget.result.items()\n",
    "                if key in changed_keys\n",
    "            ),\n",
    "        }, indent=4))\n",
    "    changed_table_settings_json.clear_output(wait=True)\n",
    "\n",
    "pdf_debug_image = widgets.Output(style=widget_style, layout=widget_layout)\n",
    "\n",
    "def update_pdf_debug_image():\n",
    "    if im is None: return\n",
    "\n",
    "    with pdf_debug_image:\n",
    "        display(im.reset().debug_tablefinder(table_settings_widget.result))\n",
    "    pdf_debug_image.clear_output(wait=True)\n",
    "\n",
    "table_dataframe = widgets.Output(style=widget_style, layout=widget_layout)\n",
    "\n",
    "def update_table_dataframe():\n",
    "    if page is None: return\n",
    "\n",
    "    with table_dataframe:\n",
    "        table = page.extract_table(table_settings_widget.result)\n",
    "        if table:\n",
    "            df = pandas.DataFrame(table[1:], columns=table[0])\n",
    "            display(df)\n",
    "        else:\n",
    "            print(\"No table found\")\n",
    "    table_dataframe.clear_output(wait=True)"
   ]
  },
  {
   "cell_type": "code",
   "execution_count": null,
   "id": "01163d7e-96ea-4f35-b39c-0105897db1c2",
   "metadata": {
    "editable": true,
    "jupyter": {
     "source_hidden": true
    },
    "slideshow": {
     "slide_type": ""
    },
    "tags": []
   },
   "outputs": [],
   "source": [
    "def update_output(*args):\n",
    "    update_changed_table_settings_json()\n",
    "    update_pdf_debug_image()\n",
    "    update_table_dataframe()\n",
    "\n",
    "update_output()\n",
    "\n",
    "book_widget.observe(update_output, names='value')\n",
    "page_widget.observe(update_output, names='value')\n",
    "for input_widget in table_settings_widget.children:\n",
    "    input_widget.observe(update_output, names='value')"
   ]
  },
  {
   "cell_type": "code",
   "execution_count": null,
   "id": "47ce16ef-3053-44c9-872e-db878fa0f2b0",
   "metadata": {
    "editable": true,
    "jupyter": {
     "source_hidden": true
    },
    "slideshow": {
     "slide_type": ""
    },
    "tags": []
   },
   "outputs": [],
   "source": [
    "input_box = widgets.VBox([\n",
    "    book_widget,\n",
    "    page_widget,\n",
    "    table_settings_widget,\n",
    "], layout={\"width\": \"90%\"})\n",
    "\n",
    "# output_layout = widgets.TwoByTwoLayout(\n",
    "#     top_left=input_box,\n",
    "#     top_right=changed_table_settings_json,\n",
    "#     bottom_left=pdf_debug_image,\n",
    "#     bottom_right=table_dataframe\n",
    "# )\n",
    "output_layout = widgets.VBox([\n",
    "    widgets.HBox([\n",
    "        input_box,\n",
    "        changed_table_settings_json,\n",
    "    ]),\n",
    "    widgets.HBox([\n",
    "        pdf_debug_image,\n",
    "        table_dataframe,\n",
    "    ])\n",
    "])\n",
    "\n",
    "display(output_layout)"
   ]
  },
  {
   "cell_type": "code",
   "execution_count": null,
   "id": "b8d41d97-f803-43a9-b7a2-e097a2c210a9",
   "metadata": {
    "jupyter": {
     "source_hidden": true
    }
   },
   "outputs": [],
   "source": [
    "from operator import itemgetter\n",
    "\n",
    "text_widget = interactive(\n",
    "    page.extract_text_lines,\n",
    "    use_text_flow=True,\n",
    "    keep_blank_chars=False,\n",
    "    layout=False,\n",
    "    x_tolerance=(0, 4000),\n",
    "    y_tolerance=(0, 40),\n",
    "    split_at_punctuation=\"\",\n",
    ")\n",
    "\n",
    "text_output = widgets.Output()\n",
    "\n",
    "def get_line_font_size(line):\n",
    "    return line[\"chars\"][0][\"size\"]\n",
    "\n",
    "@text_output.capture(clear_output=True)\n",
    "def update_text_output(*args):\n",
    "    lines = text_widget.result\n",
    "    line_font_sizes = [(line, get_line_font_size(line)) for line in lines]\n",
    "    line_font_sizes.sort(key=itemgetter(1), reverse=True)\n",
    "    print(\"Biggest font:\", line_font_sizes[0][0][\"text\"])\n",
    "    print(\"Second biggest font:\", line_font_sizes[1][0][\"text\"])\n",
    "    print(\"Third biggest font:\", line_font_sizes[2][0][\"text\"])\n",
    "    \n",
    "update_text_output()\n",
    "for input_widget in text_widget.children:\n",
    "    input_widget.observe(update_text_output, names='value')\n",
    "\n",
    "display(book_widget)\n",
    "display(page_widget)\n",
    "display(text_widget)\n",
    "display(text_output)"
   ]
  }
 ],
 "metadata": {
  "kernelspec": {
   "display_name": "Python 3 (ipykernel)",
   "language": "python",
   "name": "python3"
  },
  "language_info": {
   "codemirror_mode": {
    "name": "ipython",
    "version": 3
   },
   "file_extension": ".py",
   "mimetype": "text/x-python",
   "name": "python",
   "nbconvert_exporter": "python",
   "pygments_lexer": "ipython3",
   "version": "3.11.4"
  }
 },
 "nbformat": 4,
 "nbformat_minor": 5
}
